{
 "cells": [
  {
   "cell_type": "code",
   "execution_count": 1,
   "metadata": {},
   "outputs": [],
   "source": [
    "import numpy as np"
   ]
  },
  {
   "cell_type": "markdown",
   "metadata": {},
   "source": [
    "Напишите код, моделирующий выпадение поля в рулетке (с учетом поля зеро)."
   ]
  },
  {
   "cell_type": "code",
   "execution_count": 4,
   "metadata": {},
   "outputs": [
    {
     "data": {
      "text/plain": [
       "13"
      ]
     },
     "execution_count": 4,
     "metadata": {},
     "output_type": "execute_result"
    }
   ],
   "source": [
    "np.random.randint(0, 36)"
   ]
  },
  {
   "cell_type": "markdown",
   "metadata": {},
   "source": [
    "Напишите код, проверяющий любую из теорем сложения или умножения вероятности на примере рулетки или подбрасывания монетки."
   ]
  },
  {
   "cell_type": "code",
   "execution_count": 19,
   "metadata": {},
   "outputs": [
    {
     "name": "stdout",
     "output_type": "stream",
     "text": [
      "выпал или oрел или решка\n"
     ]
    }
   ],
   "source": [
    "k = 0\n",
    "m = 0\n",
    "pk = 0.5\n",
    "pm = 0.5\n",
    "for i in range(1):\n",
    "    np.random.uniform(0, 10)\n",
    "    if i > 5:\n",
    "        k += 1\n",
    "    else:\n",
    "        m += 1\n",
    "if (pk + pm) == k or (pk + pm) == m:\n",
    "    print('выпал или oрел или решка')"
   ]
  },
  {
   "cell_type": "markdown",
   "metadata": {},
   "source": [
    "Сгенерируйте десять выборок случайных чисел х0, …, х9. и постройте гистограмму распределения случайной суммы х0+х1+ …+ х9."
   ]
  },
  {
   "cell_type": "code",
   "execution_count": 10,
   "metadata": {},
   "outputs": [
    {
     "data": {
      "text/plain": [
       "array([ 2.52489701, -0.60433217,  2.90869467, -3.03551737,  0.64515126,\n",
       "        3.30676053, -4.44814459, -1.39174333,  2.96173445,  3.0752134 ])"
      ]
     },
     "execution_count": 10,
     "metadata": {},
     "output_type": "execute_result"
    }
   ],
   "source": [
    "x0 = np.random.randn(10)\n",
    "x1 = np.random.randn(10)\n",
    "x2 = np.random.randn(10)\n",
    "x3 = np.random.randn(10)\n",
    "x4 = np.random.randn(10)\n",
    "x5 = np.random.randn(10)\n",
    "x6 = np.random.randn(10)\n",
    "x7 = np.random.randn(10)\n",
    "x8 = np.random.randn(10)\n",
    "x9 = np.random.randn(10)\n",
    "x_sum = x0 + x1 + x2 + x3 + x4 + x5 + x6 + x7 + x8 + x9\n",
    "x_sum"
   ]
  },
  {
   "cell_type": "code",
   "execution_count": 11,
   "metadata": {},
   "outputs": [],
   "source": [
    "import matplotlib.pyplot as plt"
   ]
  },
  {
   "cell_type": "code",
   "execution_count": 13,
   "metadata": {},
   "outputs": [
    {
     "data": {
      "text/plain": [
       "(array([1., 1., 0., 1., 1., 0., 1., 0., 1., 4.]),\n",
       " array([-4.44814459, -3.67265408, -2.89716357, -2.12167305, -1.34618254,\n",
       "        -0.57069203,  0.20479848,  0.98028899,  1.7557795 ,  2.53127002,\n",
       "         3.30676053]),\n",
       " <a list of 10 Patch objects>)"
      ]
     },
     "execution_count": 13,
     "metadata": {},
     "output_type": "execute_result"
    },
    {
     "data": {
      "image/png": "[encoded data removed]",
      "text/plain": [
       "<Figure size 432x288 with 1 Axes>"
      ]
     },
     "metadata": {
      "needs_background": "light"
     },
     "output_type": "display_data"
    }
   ],
   "source": [
    "plt.hist(x_sum)"
   ]
  },
  {
   "cell_type": "markdown",
   "metadata": {},
   "source": [
    "Дополните код Монте-Карло последовательности независимых испытаний расчетом соответствующих вероятностей (через биномиальное распределение) \n",
    "и сравните результаты."
   ]
  },
  {
   "cell_type": "code",
   "execution_count": null,
   "metadata": {},
   "outputs": [],
   "source": [
    "k = 0\n",
    "m = 0\n",
    "pk = 0.5\n",
    "pm = 0.5\n",
    "for i in range(1):\n",
    "    np.random.uniform(0, 10)\n",
    "    if i > 5:\n",
    "        k += 1\n",
    "    else:\n",
    "        m += 1"
   ]
  }
 ],
 "metadata": {
  "kernelspec": {
   "display_name": "Python 3",
   "language": "python",
   "name": "python3"
  },
  "language_info": {
   "codemirror_mode": {
    "name": "ipython",
    "version": 3
   },
   "file_extension": ".py",
   "mimetype": "text/x-python",
   "name": "python",
   "nbconvert_exporter": "python",
   "pygments_lexer": "ipython3",
   "version": "3.7.4"
  }
 },
 "nbformat": 4,
 "nbformat_minor": 2
}
